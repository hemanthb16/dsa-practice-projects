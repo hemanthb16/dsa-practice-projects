{
 "cells": [
  {
   "cell_type": "code",
   "execution_count": 14,
   "id": "41e18ac9-b40b-47f1-8606-b55c1950bc8d",
   "metadata": {},
   "outputs": [],
   "source": [
    "# Find Time Complexity"
   ]
  },
  {
   "cell_type": "code",
   "execution_count": 15,
   "id": "243e08a3-101a-4720-97f6-ad3cec238076",
   "metadata": {},
   "outputs": [],
   "source": [
    "# Print numbers from 1 to n\n",
    "# Time: O(n)"
   ]
  },
  {
   "cell_type": "code",
   "execution_count": 16,
   "id": "8c8f5f0a-983f-4180-b9ba-e46d9f44d7de",
   "metadata": {},
   "outputs": [],
   "source": [
    "# Nested loops: for i in range(n): for j in range(i):\n",
    "# Time: O(n) * O(n) = O(n**2) (n square)"
   ]
  },
  {
   "cell_type": "code",
   "execution_count": 17,
   "id": "4b91e81f-2916-4622-ad22-4d236066ebcd",
   "metadata": {},
   "outputs": [],
   "source": [
    "# Recursive sum of first n numbers\n",
    "# Time: O(n)\n"
   ]
  },
  {
   "cell_type": "code",
   "execution_count": 18,
   "id": "69fa06ff-3827-485d-884e-5914e42656fe",
   "metadata": {},
   "outputs": [],
   "source": [
    "# Write a recursive factorial function\n",
    "def factorial(n):\n",
    "    if n == 0 or n == 1:\n",
    "        return 1;\n",
    "    return n * factorial(n-1)\n",
    "# Time: O(n)\n",
    "# space: O(n)"
   ]
  },
  {
   "cell_type": "code",
   "execution_count": 22,
   "id": "c7a22500-84e9-4f06-bf07-4038a169b6c2",
   "metadata": {},
   "outputs": [],
   "source": [
    "# Write both naive and memoized Fibonacci\n",
    "# naive\n",
    "def fab(n):\n",
    "    if n <= 1:\n",
    "        return n\n",
    "    return fab(n-1) + fab(n-2)\n",
    "# Time: O(n) * O(n) = O(2^n) - very insufficient\n",
    "# Space: O(n) + O(n) = O(n)\n",
    "\n",
    "# memoized Fibonacci\n",
    "def fab_memo(n, memo={}):\n",
    "    if n in memo:\n",
    "        return memo[n]\n",
    "    elif n <= 1:\n",
    "        return n\n",
    "    else:\n",
    "        memo[n] =  fab_memo(n-1, memo) + fab_memo(n-2, memo)\n",
    "        return memo[n]\n",
    "# Time: O(n)\n",
    "# space: O(n)"
   ]
  },
  {
   "cell_type": "code",
   "execution_count": null,
   "id": "584aecd7-d6cf-445d-937d-d9131571e7a7",
   "metadata": {},
   "outputs": [],
   "source": []
  }
 ],
 "metadata": {
  "kernelspec": {
   "display_name": "Python [conda env:base] *",
   "language": "python",
   "name": "conda-base-py"
  },
  "language_info": {
   "codemirror_mode": {
    "name": "ipython",
    "version": 3
   },
   "file_extension": ".py",
   "mimetype": "text/x-python",
   "name": "python",
   "nbconvert_exporter": "python",
   "pygments_lexer": "ipython3",
   "version": "3.12.7"
  }
 },
 "nbformat": 4,
 "nbformat_minor": 5
}
