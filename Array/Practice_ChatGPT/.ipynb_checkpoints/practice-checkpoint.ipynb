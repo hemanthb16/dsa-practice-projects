{
 "cells": [
  {
   "cell_type": "code",
   "execution_count": null,
   "id": "dd6cbfd5-eb23-48a7-97b0-8d2cc5363688",
   "metadata": {},
   "outputs": [],
   "source": [
    "# Reverse an array - Input: [1, 2, 3, 4] → Output: [4, 3, 2, 1]"
   ]
  },
  {
   "cell_type": "code",
   "execution_count": 22,
   "id": "3c9a8150-81c5-423f-b235-681d955d880a",
   "metadata": {},
   "outputs": [
    {
     "name": "stdout",
     "output_type": "stream",
     "text": [
      "Reversed array is [5, 4, 3, 2, 1]\n",
      "[1, 2, 3, 4, 5]\n"
     ]
    }
   ],
   "source": [
    "#arr = [1, 2, 3, 4]\n",
    "arr = [1, 2, 3, 4, 5]\n",
    "leftIndex = 0\n",
    "rightIndex = len(arr)-1\n",
    "while(leftIndex <= rightIndex):\n",
    "    temp = arr[rightIndex]\n",
    "    arr[rightIndex] = arr[leftIndex]\n",
    "    arr[leftIndex] = temp\n",
    "    leftIndex += 1\n",
    "    rightIndex -= 1\n",
    "print(f\"Reversed array is {arr}\")\n",
    "\n",
    "# corrected solution by GPT\n",
    "left, right = 0, len(arr) - 1\n",
    "while(left < right):\n",
    "    arr[left], arr[right] = arr[right], arr[left]\n",
    "    left +=1\n",
    "    right -=1\n",
    "print(f\"{arr}\")\n",
    "    \n",
    "        "
   ]
  },
  {
   "cell_type": "code",
   "execution_count": null,
   "id": "2e5c94b7-80d9-4710-b3b0-01f9e986b07e",
   "metadata": {},
   "outputs": [],
   "source": [
    "# Check if array is sorted \n",
    "# Input: [1, 2, 2, 3, 5] → Output: True\n",
    "# Input: [5, 3, 2, 1] → Output: False"
   ]
  },
  {
   "cell_type": "code",
   "execution_count": 26,
   "id": "d6f55c3e-9485-48a0-ad60-02d66d4a5a39",
   "metadata": {},
   "outputs": [
    {
     "name": "stdout",
     "output_type": "stream",
     "text": [
      "True\n"
     ]
    }
   ],
   "source": [
    "\n",
    "# arr = [5, 3, 2, 1]\n",
    "# arr = [1, 2, 4, 3]\n",
    "arr = [1, 2, 2, 3, 5]\n",
    "is_sorted = True\n",
    "for i in range(len(arr)-1):\n",
    "    if arr[i+1] < arr[i]:\n",
    "        is_sorted = False\n",
    "        break\n",
    "print(f\"{is_sorted}\")         "
   ]
  },
  {
   "cell_type": "code",
   "execution_count": 16,
   "id": "94f191e8-3041-4439-8142-62455568eb78",
   "metadata": {},
   "outputs": [
    {
     "name": "stdout",
     "output_type": "stream",
     "text": [
      "distinct array [1, 2, 3]\n"
     ]
    }
   ],
   "source": [
    "# Remove Duplicates from a Sorted Array (return length)\n",
    "# Input: [1, 1, 2, 2, 3] → Output: 3 Similar to Leetcode #26)\n",
    "arr = [1, 1, 2, 2, 3, 3, 3]\n",
    "index = 0\n",
    "while(index < len(arr)-1):\n",
    "    if arr[index] == arr[index + 1]:\n",
    "        arr.pop(index)\n",
    "    else:\n",
    "        index +=1\n",
    "print(f\"distinct array {arr}\")"
   ]
  },
  {
   "cell_type": "code",
   "execution_count": null,
   "id": "19967a61-6c65-4eed-9998-060ce73675ad",
   "metadata": {},
   "outputs": [],
   "source": [
    "# Remove Duplicates from a Sorted Array (return length)\n",
    "# Input: [1, 1, 2, 2, 3] → Output: 3 Similar to Leetcode #26)\n",
    "# GPT AND efficient version\n"
   ]
  },
  {
   "cell_type": "code",
   "execution_count": 30,
   "id": "c2f9d9c8-67c6-42b4-9cb5-90ffb93cfdeb",
   "metadata": {},
   "outputs": [
    {
     "name": "stdout",
     "output_type": "stream",
     "text": [
      "[1, 2, 3]\n"
     ]
    }
   ],
   "source": [
    "# arr = [1, 1, 2, 3, 3, 3]\n",
    "arr = [1, 1, 2, 2, 3, 3, 3]\n",
    "write = 1\n",
    "for read in range(1, len(arr)):\n",
    "    if arr[read] != arr[read-1]:\n",
    "        arr[write] = arr[read]\n",
    "        write +=1\n",
    "arr = arr[:write]\n",
    "\n",
    "print(arr)\n",
    "    "
   ]
  },
  {
   "cell_type": "code",
   "execution_count": null,
   "id": "9a5c458a-67ce-45a1-813d-6fe2981cd141",
   "metadata": {},
   "outputs": [],
   "source": []
  }
 ],
 "metadata": {
  "kernelspec": {
   "display_name": "Python [conda env:base] *",
   "language": "python",
   "name": "conda-base-py"
  },
  "language_info": {
   "codemirror_mode": {
    "name": "ipython",
    "version": 3
   },
   "file_extension": ".py",
   "mimetype": "text/x-python",
   "name": "python",
   "nbconvert_exporter": "python",
   "pygments_lexer": "ipython3",
   "version": "3.12.7"
  }
 },
 "nbformat": 4,
 "nbformat_minor": 5
}
