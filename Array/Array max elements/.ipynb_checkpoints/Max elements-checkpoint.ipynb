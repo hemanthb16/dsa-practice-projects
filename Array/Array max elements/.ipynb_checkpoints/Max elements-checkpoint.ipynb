{
 "cells": [
  {
   "cell_type": "code",
   "execution_count": 1,
   "id": "fe40029e-4af3-4ec2-a26b-bb0eb8363e55",
   "metadata": {},
   "outputs": [
    {
     "name": "stdout",
     "output_type": "stream",
     "text": [
      "[2, 56, 34, 105, 43, 140]\n"
     ]
    }
   ],
   "source": [
    "num = [2, 56, 34, 105, 43, 140]\n",
    "print(num)"
   ]
  },
  {
   "cell_type": "code",
   "execution_count": 6,
   "id": "7976374f-72a3-435a-9621-9cf235e9db8c",
   "metadata": {},
   "outputs": [
    {
     "name": "stdout",
     "output_type": "stream",
     "text": [
      "105\n"
     ]
    }
   ],
   "source": [
    "# Code to find 2nd max element\n",
    "# Will use inbuild math library\n",
    "num.sort(reverse=True)\n",
    "print(num[1])"
   ]
  },
  {
   "cell_type": "code",
   "execution_count": 14,
   "id": "6073c3b8-d301-40b1-81e8-0eca4e725499",
   "metadata": {},
   "outputs": [
    {
     "name": "stdout",
     "output_type": "stream",
     "text": [
      "105\n"
     ]
    }
   ],
   "source": [
    "# using double for loop\n",
    "num = [2, 56, 34, 105, 43, 140]\n",
    "max = 0\n",
    "secondMax = 0\n",
    "for i in num:\n",
    "    if i > max: \n",
    "        max = i\n",
    "for i in num:\n",
    "    if i > secondMax and i < max: \n",
    "        secondMax = i\n",
    "print(secondMax)"
   ]
  },
  {
   "cell_type": "code",
   "execution_count": 17,
   "id": "cd96e18b-db6e-47a3-8bc9-709d390c279f",
   "metadata": {},
   "outputs": [
    {
     "name": "stdout",
     "output_type": "stream",
     "text": [
      "max value is 140\n",
      "second max value is 130\n"
     ]
    }
   ],
   "source": [
    "# using single for loop\n",
    "num = [2, 130, 34, 104, 43, 140]\n",
    "max = 0\n",
    "secondMax = 0\n",
    "for i in num:\n",
    "    if i > max:\n",
    "        secondMax = max\n",
    "        max = i\n",
    "    else:\n",
    "        i > secondMax\n",
    "        secondMax = i\n",
    "print(f\"max value is {max}\")\n",
    "print(f\"second max value is {secondMax}\")\n",
    "        \n",
    "    \n",
    "    "
   ]
  },
  {
   "cell_type": "code",
   "execution_count": null,
   "id": "83889ee8-ddb1-4c5d-ae41-089cea06808f",
   "metadata": {},
   "outputs": [],
   "source": []
  }
 ],
 "metadata": {
  "kernelspec": {
   "display_name": "Python 3 (ipykernel)",
   "language": "python",
   "name": "python3"
  },
  "language_info": {
   "codemirror_mode": {
    "name": "ipython",
    "version": 3
   },
   "file_extension": ".py",
   "mimetype": "text/x-python",
   "name": "python",
   "nbconvert_exporter": "python",
   "pygments_lexer": "ipython3",
   "version": "3.12.7"
  }
 },
 "nbformat": 4,
 "nbformat_minor": 5
}
