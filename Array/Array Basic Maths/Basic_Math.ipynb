{
 "cells": [
  {
   "cell_type": "markdown",
   "id": "567a1506-1cc2-4d0a-ad65-31e0d4b80938",
   "metadata": {},
   "source": []
  },
  {
   "cell_type": "code",
   "execution_count": 2,
   "id": "09481405-2944-437d-a26b-3326da51925e",
   "metadata": {},
   "outputs": [
    {
     "name": "stdout",
     "output_type": "stream",
     "text": [
      "[7, 34, 12, 98, 40]\n"
     ]
    }
   ],
   "source": [
    "num = [7, 34, 12, 98, 40]\n",
    "print(num)"
   ]
  },
  {
   "cell_type": "code",
   "execution_count": 6,
   "id": "0afb335f-7dd0-4143-a194-fc2cc9d152ff",
   "metadata": {},
   "outputs": [
    {
     "name": "stdout",
     "output_type": "stream",
     "text": [
      "max value is 98\n"
     ]
    }
   ],
   "source": [
    "# Find max element\n",
    "max = num[0]\n",
    "for i in num:\n",
    "    if i > max:\n",
    "        max = i\n",
    "print(f\"max value is {max}\")    \n",
    "    "
   ]
  },
  {
   "cell_type": "code",
   "execution_count": 5,
   "id": "4d60e190-c35f-4565-acbf-45de33c217ae",
   "metadata": {},
   "outputs": [
    {
     "name": "stdout",
     "output_type": "stream",
     "text": [
      "min value is 7\n"
     ]
    }
   ],
   "source": [
    "# Find min element\n",
    "min = num[0]\n",
    "for i in num:\n",
    "    if i < min:\n",
    "        min = i\n",
    "print(f\"min value is {min}\")\n",
    "        "
   ]
  },
  {
   "cell_type": "code",
   "execution_count": 7,
   "id": "28909d78-80e9-427c-b63b-9a6445560e48",
   "metadata": {},
   "outputs": [
    {
     "name": "stdout",
     "output_type": "stream",
     "text": [
      "sum of array elements is 191\n"
     ]
    }
   ],
   "source": [
    "# sum of array numbers\n",
    "sum = 0\n",
    "for i in num:\n",
    "    sum += i\n",
    "print(f\"sum of array elements is {sum}\")"
   ]
  },
  {
   "cell_type": "code",
   "execution_count": 8,
   "id": "3c4d45a0-4b79-4343-b84a-fb25808e2620",
   "metadata": {},
   "outputs": [
    {
     "name": "stdout",
     "output_type": "stream",
     "text": [
      "average of array elements is 38.2\n"
     ]
    }
   ],
   "source": [
    "# Average of array elements\n",
    "avg = 0\n",
    "sum = 0\n",
    "for i in num:\n",
    "    sum += i\n",
    "avg = sum/len(num)\n",
    "print(f\"average of array elements is {avg}\")"
   ]
  },
  {
   "cell_type": "code",
   "execution_count": null,
   "id": "31bd11c2-8a81-45c9-999a-197bd16bdca5",
   "metadata": {},
   "outputs": [],
   "source": []
  }
 ],
 "metadata": {
  "kernelspec": {
   "display_name": "Python 3 (ipykernel)",
   "language": "python",
   "name": "python3"
  },
  "language_info": {
   "codemirror_mode": {
    "name": "ipython",
    "version": 3
   },
   "file_extension": ".py",
   "mimetype": "text/x-python",
   "name": "python",
   "nbconvert_exporter": "python",
   "pygments_lexer": "ipython3",
   "version": "3.12.7"
  }
 },
 "nbformat": 4,
 "nbformat_minor": 5
}
