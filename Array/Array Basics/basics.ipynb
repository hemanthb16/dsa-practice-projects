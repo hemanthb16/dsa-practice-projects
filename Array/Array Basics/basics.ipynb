{
 "cells": [
  {
   "cell_type": "code",
   "execution_count": 2,
   "id": "979830de-76d2-439d-b59b-4eb3eca34de9",
   "metadata": {},
   "outputs": [
    {
     "name": "stdout",
     "output_type": "stream",
     "text": [
      "20\n"
     ]
    }
   ],
   "source": [
    "marks = [10, 20, 30, 40]\n",
    "# access\n",
    "print(marks[1])"
   ]
  },
  {
   "cell_type": "code",
   "execution_count": 3,
   "id": "7811134b-d240-439d-a21c-642806f39924",
   "metadata": {},
   "outputs": [
    {
     "name": "stdout",
     "output_type": "stream",
     "text": [
      "[10, 20, 30, 35]\n"
     ]
    }
   ],
   "source": [
    "# update\n",
    "marks[3] = 35\n",
    "print(marks)"
   ]
  },
  {
   "cell_type": "code",
   "execution_count": 4,
   "id": "a9371f6d-9514-4a21-8940-495b68eecd87",
   "metadata": {},
   "outputs": [
    {
     "name": "stdout",
     "output_type": "stream",
     "text": [
      "[10, 20, 30, 35, 72]\n"
     ]
    }
   ],
   "source": [
    "# insert\n",
    "marks.append(72) # appends at last position, we can append at index by marks.append(1, 72)\n",
    "print(marks)"
   ]
  },
  {
   "cell_type": "code",
   "execution_count": 5,
   "id": "b11609b3-fc66-4eec-a65f-449d5cd404e7",
   "metadata": {},
   "outputs": [
    {
     "name": "stdout",
     "output_type": "stream",
     "text": [
      "[10, 20, 35, 72]\n"
     ]
    }
   ],
   "source": [
    "# delete\n",
    "marks.pop(2) # marks.pop() will delete last element\n",
    "print(marks)"
   ]
  },
  {
   "cell_type": "code",
   "execution_count": 9,
   "id": "c13825a4-bc9c-4580-9237-b911503656ec",
   "metadata": {},
   "outputs": [
    {
     "name": "stdout",
     "output_type": "stream",
     "text": [
      "marks at index 0 is 10\n",
      "marks at index 1 is 20\n",
      "marks at index 2 is 35\n",
      "marks at index 3 is 72\n"
     ]
    }
   ],
   "source": [
    "# Traverse\n",
    "for i in range(len(marks)):\n",
    "\tprint(f\"marks at index {i} is {marks[i]}\")"
   ]
  },
  {
   "cell_type": "code",
   "execution_count": null,
   "id": "ccdb74b4-6ddf-43dd-832d-689721bf6849",
   "metadata": {},
   "outputs": [],
   "source": []
  }
 ],
 "metadata": {
  "kernelspec": {
   "display_name": "Python 3 (ipykernel)",
   "language": "python",
   "name": "python3"
  },
  "language_info": {
   "codemirror_mode": {
    "name": "ipython",
    "version": 3
   },
   "file_extension": ".py",
   "mimetype": "text/x-python",
   "name": "python",
   "nbconvert_exporter": "python",
   "pygments_lexer": "ipython3",
   "version": "3.12.7"
  }
 },
 "nbformat": 4,
 "nbformat_minor": 5
}
