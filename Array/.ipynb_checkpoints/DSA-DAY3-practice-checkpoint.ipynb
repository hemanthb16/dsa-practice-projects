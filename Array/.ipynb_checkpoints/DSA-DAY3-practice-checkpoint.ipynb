{
 "cells": [
  {
   "cell_type": "code",
   "execution_count": 14,
   "id": "43e8f147-780f-4b74-b0f6-04fd7b0b6025",
   "metadata": {},
   "outputs": [
    {
     "name": "stdout",
     "output_type": "stream",
     "text": [
      "True\n"
     ]
    }
   ],
   "source": [
    "# Check if an Array is a Palindrome\n",
    "# Input: [1, 2, 3, 2, 1] → ✅ Palindrome\n",
    "# Input: [1, 2, 3, 4, 5] → ❌ Not a palindrome\n",
    "arr = [1, 2, 3, 2, 1]\n",
    "is_palindrome = True\n",
    "left,right = 0, len(arr)-1\n",
    "while(left < right):\n",
    "    if arr[left] != arr[right]:\n",
    "        is_palindrome = False\n",
    "        break\n",
    "    else:\n",
    "        left += 1\n",
    "        right -= 1\n",
    "print(is_palindrome)"
   ]
  },
  {
   "cell_type": "code",
   "execution_count": 20,
   "id": "71849f4f-b025-4087-92b5-933bb6030d1d",
   "metadata": {},
   "outputs": [
    {
     "name": "stdout",
     "output_type": "stream",
     "text": [
      "[1, 3, 12, 0, 0]\n"
     ]
    }
   ],
   "source": [
    "# Move All Zeroes to the End (In-Place)\n",
    "# Input: [0, 1, 0, 3, 12] -> [1, 3, 12, 0, 0]\n",
    "arr = [0, 1, 0, 3, 12]\n",
    "write = 0\n",
    "for read in range(len(arr)):\n",
    "    if arr[read] != 0:\n",
    "        arr[write] = arr[read]\n",
    "        write +=1\n",
    "while write < len(arr):\n",
    "    arr[write] = 0\n",
    "    write += 1\n",
    "print(arr)"
   ]
  },
  {
   "cell_type": "code",
   "execution_count": 30,
   "id": "389a692a-8b6e-47e1-884f-e341eebb5073",
   "metadata": {},
   "outputs": [
    {
     "name": "stdout",
     "output_type": "stream",
     "text": [
      "[7, 6, 5, 4, 3, 2, 1]\n",
      "[5, 6, 7, 4, 3, 2, 1]\n",
      "[5, 6, 7, 1, 2, 3, 4]\n"
     ]
    }
   ],
   "source": [
    "# You are given an array and an integer k.\n",
    "# Rotate the array to the right by k steps.\n",
    "arr = [1, 2, 3, 4, 5, 6, 7]\n",
    "k = 3\n",
    "position = len(arr) - k\n",
    "if k < len(arr):\n",
    "    position = k % len(arr)\n",
    "left, right=0, len(arr) - 1\n",
    "while left < right:\n",
    "    arr[left], arr[right] = arr[right], arr[left]\n",
    "    left += 1\n",
    "    right -= 1\n",
    "print(arr)\n",
    "left = 0\n",
    "right = position - 1\n",
    "while left < right:\n",
    "    arr[left], arr[right] = arr[right], arr[left]\n",
    "    left += 1\n",
    "    right -= 1\n",
    "print(arr)\n",
    "\n",
    "left = position\n",
    "right = len(arr) - 1 \n",
    "while left < right:\n",
    "    arr[left], arr[right] = arr[right], arr[left]\n",
    "    left += 1\n",
    "    right -= 1\n",
    "print(arr)\n",
    "\n",
    "\n"
   ]
  },
  {
   "cell_type": "code",
   "execution_count": null,
   "id": "b55d5856-4208-450d-9f54-3bc78c227c2f",
   "metadata": {},
   "outputs": [],
   "source": []
  }
 ],
 "metadata": {
  "kernelspec": {
   "display_name": "Python [conda env:base] *",
   "language": "python",
   "name": "conda-base-py"
  },
  "language_info": {
   "codemirror_mode": {
    "name": "ipython",
    "version": 3
   },
   "file_extension": ".py",
   "mimetype": "text/x-python",
   "name": "python",
   "nbconvert_exporter": "python",
   "pygments_lexer": "ipython3",
   "version": "3.12.7"
  }
 },
 "nbformat": 4,
 "nbformat_minor": 5
}
